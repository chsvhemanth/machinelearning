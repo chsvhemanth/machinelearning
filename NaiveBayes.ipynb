{
  "nbformat": 4,
  "nbformat_minor": 0,
  "metadata": {
    "colab": {
      "provenance": [],
      "mount_file_id": "1zgY62y1v8GMo5xugW-O4XoEg-o9MQ3PO",
      "authorship_tag": "ABX9TyP1d7BiX2cPwmh2hnDnLqdP",
      "include_colab_link": true
    },
    "kernelspec": {
      "name": "python3",
      "display_name": "Python 3"
    },
    "language_info": {
      "name": "python"
    }
  },
  "cells": [
    {
      "cell_type": "markdown",
      "metadata": {
        "id": "view-in-github",
        "colab_type": "text"
      },
      "source": [
        "<a href=\"https://colab.research.google.com/github/chsvhemanth/machinelearning/blob/main/NaiveBayes.ipynb\" target=\"_parent\"><img src=\"https://colab.research.google.com/assets/colab-badge.svg\" alt=\"Open In Colab\"/></a>"
      ]
    },
    {
      "cell_type": "code",
      "execution_count": 5,
      "metadata": {
        "colab": {
          "base_uri": "https://localhost:8080/",
          "height": 604
        },
        "id": "vaFON9bWpeTW",
        "outputId": "1bb624a1-f4ba-431a-962c-743a21571472"
      },
      "outputs": [
        {
          "output_type": "stream",
          "name": "stdout",
          "text": [
            "0.9\n",
            "              precision    recall  f1-score   support\n",
            "\n",
            "           0       0.90      0.96      0.93        68\n",
            "           1       0.89      0.78      0.83        32\n",
            "\n",
            "    accuracy                           0.90       100\n",
            "   macro avg       0.90      0.87      0.88       100\n",
            "weighted avg       0.90      0.90      0.90       100\n",
            "\n"
          ]
        },
        {
          "output_type": "display_data",
          "data": {
            "text/plain": [
              "<Figure size 640x480 with 2 Axes>"
            ],
            "image/png": "[encoded data removed]"
          },
          "metadata": {}
        }
      ],
      "source": [
        "# importing the libraries\n",
        "import numpy as np\n",
        "import matplotlib.pyplot as plt\n",
        "import pandas as pd\n",
        "import seaborn as sns\n",
        "# importing the dataset\n",
        "dataset = pd.read_csv(\"/NaiveBayes - NaiveBayes.csv\")\n",
        "# Seperating Independent and Dependent Variable\n",
        "X = dataset.iloc[:, [0,1]].values\n",
        "y = dataset.iloc[:, 2].values\n",
        "# training and testing data\n",
        "from sklearn.model_selection import train_test_split\n",
        "# assign test data size 25%\n",
        "X_train, X_test, y_train, y_test =train_test_split(X,y,test_size= 0.25,random_state=0)\n",
        "# import Gaussian Naive Bayes classifier\n",
        "from sklearn.naive_bayes import GaussianNB\n",
        "# create a Gaussian Classifier\n",
        "classifer1 = GaussianNB()\n",
        "# training the model\n",
        "classifer1.fit(X_train, y_train)\n",
        "# testing the model\n",
        "y_pred1 = classifer1.predict(X_test)\n",
        "y_pred1\n",
        "# importing accuracy score\n",
        "from sklearn.metrics import accuracy_score\n",
        "# printing the accuracy of the model\n",
        "print(accuracy_score(y_test,y_pred1))\n",
        "# importing the required modules\n",
        "import seaborn as sns\n",
        "\n",
        "from sklearn.metrics import confusion_matrix\n",
        "# passing actual and predicted values\n",
        "cm = confusion_matrix(y_test, y_pred1)\n",
        "# true write data values in each cell of the matrix\n",
        "sns.heatmap(cm,annot=True)\n",
        "plt.savefig('confusion.png')\n",
        "# importing classification report\n",
        "from sklearn.metrics import classification_report\n",
        "# printing the report\n",
        "print(classification_report(y_test, y_pred1))"
      ]
    }
  ]
}