{
  "nbformat": 4,
  "nbformat_minor": 0,
  "metadata": {
    "colab": {
      "provenance": [],
      "authorship_tag": "ABX9TyPV+kiUkU4Nd74SEypqNv6W",
      "include_colab_link": true
    },
    "kernelspec": {
      "name": "python3",
      "display_name": "Python 3"
    },
    "language_info": {
      "name": "python"
    }
  },
  "cells": [
    {
      "cell_type": "markdown",
      "metadata": {
        "id": "view-in-github",
        "colab_type": "text"
      },
      "source": [
        "<a href=\"https://colab.research.google.com/github/chsvhemanth/machinelearning/blob/main/backpropagation.ipynb\" target=\"_parent\"><img src=\"https://colab.research.google.com/assets/colab-badge.svg\" alt=\"Open In Colab\"/></a>"
      ]
    },
    {
      "cell_type": "code",
      "execution_count": 1,
      "metadata": {
        "id": "UUCuuEiBmq53"
      },
      "outputs": [],
      "source": [
        "import numpy as np"
      ]
    },
    {
      "cell_type": "code",
      "source": [
        "def sigmoid(x):\n",
        "  return 1 / (1 + np.exp(-x))\n",
        "# Define derivative of sigmoid function\n",
        "def sigmoid_derivative(x):\n",
        "  return x * (1 - x)"
      ],
      "metadata": {
        "id": "0korNt1Pm34g"
      },
      "execution_count": 3,
      "outputs": []
    },
    {
      "cell_type": "code",
      "source": [
        "# Read input from user\n",
        "input_data = np.array(input(\"Enter input data separated by commas: \").split(','), dtype=float)"
      ],
      "metadata": {
        "colab": {
          "base_uri": "https://localhost:8080/"
        },
        "id": "zgaE030jnE06",
        "outputId": "9aa8c813-7331-4cb4-fe96-246dc974b178"
      },
      "execution_count": 4,
      "outputs": [
        {
          "name": "stdout",
          "output_type": "stream",
          "text": [
            "Enter input data separated by commas: 0.05,0.1\n"
          ]
        }
      ]
    },
    {
      "cell_type": "code",
      "source": [
        "# Read number of hidden layers from user\n",
        "n_hidden_layers = int(input(\"Enter number of hidden layers: \"))"
      ],
      "metadata": {
        "colab": {
          "base_uri": "https://localhost:8080/"
        },
        "id": "Drd0yrK7nQA5",
        "outputId": "803c00e1-2e68-4683-a5e4-8b3e6136229f"
      },
      "execution_count": 5,
      "outputs": [
        {
          "name": "stdout",
          "output_type": "stream",
          "text": [
            "Enter number of hidden layers: 1\n"
          ]
        }
      ]
    },
    {
      "cell_type": "code",
      "source": [
        "# Read number of output neurons from user\n",
        "n_output_neurons = int(input(\"Enter number of output neurons: \"))"
      ],
      "metadata": {
        "colab": {
          "base_uri": "https://localhost:8080/"
        },
        "id": "tkKOOuPXnY1m",
        "outputId": "170d6ba4-99ff-46dc-f693-d47ee1682614"
      },
      "execution_count": 6,
      "outputs": [
        {
          "name": "stdout",
          "output_type": "stream",
          "text": [
            "Enter number of output neurons: 2\n"
          ]
        }
      ]
    },
    {
      "cell_type": "code",
      "source": [
        "# Read bias values from user\n",
        "bias_values = []\n",
        "for i in range(n_hidden_layers+1):\n",
        "  bias_values.append(np.array(input(f\"Enter bias values for layer {i+1} separated by commas: \").split(','), dtype=float))"
      ],
      "metadata": {
        "colab": {
          "base_uri": "https://localhost:8080/"
        },
        "id": "oGC1Nni9nbQO",
        "outputId": "8b30ec18-9589-4b6b-85a9-f241a8ec761d"
      },
      "execution_count": 8,
      "outputs": [
        {
          "name": "stdout",
          "output_type": "stream",
          "text": [
            "Enter bias values for layer 1 separated by commas: 0.35\n",
            "Enter bias values for layer 2 separated by commas: 0.60\n"
          ]
        }
      ]
    },
    {
      "cell_type": "code",
      "source": [
        "# Define neural network architecture\n",
        "input_layer_size = input_data.shape[0]\n",
        "hidden_layer_sizes = []\n",
        "weights = []"
      ],
      "metadata": {
        "id": "tGHM-fjEnr3J"
      },
      "execution_count": 9,
      "outputs": []
    },
    {
      "cell_type": "code",
      "source": [
        "for i in range(n_hidden_layers):\n",
        "  hidden_layer_sizes.append(int(input(f\"Enter number of neurons in hidden layer{i+1}: \")))\n",
        "  if i == 0:\n",
        "    weights.append(np.array(input(f\"Enter weights for input layer to hidden layer{i+1} separated by commas: \").split(','), dtype=float).reshape(input_layer_size,hidden_layer_sizes[i]))\n",
        "  else:\n",
        "    weights.append(np.array(input(f\"Enter weights for hidden layer {i} to hidden layer {i+1} separated by commas: \").split(','),dtype=float).reshape(hidden_layer_sizes[i-1], hidden_layer_sizes[i]))\n",
        "weights.append(np.array(input(f\"Enter weights for hidden layer {n_hidden_layers}to output layer separated by commas: \").split(','),dtype=float).reshape(hidden_layer_sizes[-1], n_output_neurons))"
      ],
      "metadata": {
        "colab": {
          "base_uri": "https://localhost:8080/"
        },
        "id": "5ECpdtkFn1xU",
        "outputId": "2c35c80c-3cb2-43c6-d23f-ed2b18d90b3f"
      },
      "execution_count": 10,
      "outputs": [
        {
          "name": "stdout",
          "output_type": "stream",
          "text": [
            "Enter number of neurons in hidden layer1: 2\n",
            "Enter weights for input layer to hidden layer1 separated by commas: 0.15,0.2,0.25,0.3\n",
            "Enter weights for hidden layer 1to output layer separated by commas: 0.4,0.45,0.5,0.55\n"
          ]
        }
      ]
    },
    {
      "cell_type": "code",
      "source": [
        "# Set hyperparameters\n",
        "learning_rate = 0.1\n",
        "num_iterations = 1000"
      ],
      "metadata": {
        "id": "piNXzlYNn1CC"
      },
      "execution_count": 11,
      "outputs": []
    },
    {
      "cell_type": "code",
      "source": [
        "# Read target output from user\n",
        "target = np.array(input(f\"Enter target output separated by commas: \").split(','), dtype=float)"
      ],
      "metadata": {
        "colab": {
          "base_uri": "https://localhost:8080/"
        },
        "id": "RJ4u7Gyun5OX",
        "outputId": "8390e9f2-f8e9-463d-fe9a-234d652ca3be"
      },
      "execution_count": 12,
      "outputs": [
        {
          "name": "stdout",
          "output_type": "stream",
          "text": [
            "Enter target output separated by commas: 0.01,0.99\n"
          ]
        }
      ]
    },
    {
      "cell_type": "code",
      "source": [
        "# Train the neural network\n",
        "for i in range(num_iterations):\n",
        "# Feedforward\n",
        "  hidden_layers = [input_data]\n",
        "  for j in range(len(hidden_layer_sizes)):\n",
        "    hidden_layer = sigmoid(np.dot(hidden_layers[j], weights[j]) + bias_values[j])\n",
        "    hidden_layers.append(hidden_layer)\n",
        "  output = sigmoid(np.dot(hidden_layers[-1], weights[-1]) + bias_values[-1])\n",
        "# Backpropagation\n",
        "  error = output - target\n",
        "  delta = error * sigmoid_derivative(output)\n",
        "  deltas = [delta]\n",
        "  for j in range(len(hidden_layer_sizes)-1, -1, -1):\n",
        "    delta = np.dot(deltas[-1], weights[j+1].T) * sigmoid_derivative(hidden_layers[j+1])\n",
        "    deltas.append(delta)\n",
        "  deltas.reverse()\n",
        "# Update weights and biases\n",
        "  for j in range(len(hidden_layer_sizes)+1):\n",
        "    if j == 0:\n",
        "      layer_input = input_data\n",
        "    else:\n",
        "      layer_input = hidden_layers[j]\n",
        "    dtran = np.transpose(deltas[j].reshape(-1,1))\n",
        "    x = np.dot(layer_input.reshape(-1,1), dtran)\n",
        "    #print(x.shape,weights[j].shape)\n",
        "    weights[j] -= learning_rate * x\n",
        "\n",
        "# Print final output and weights\n",
        "print(f\"Final output: {output}\")\n",
        "print(f\"Target output: {target}\")\n",
        "for i in range(len(weights)):\n",
        "  print(f\"Layer {i+1} weights: {weights[i]}\")\n",
        "for i in range(len(bias_values)):\n",
        "  print(f\"Layer {i+1} biases: {bias_values[i]}\")"
      ],
      "metadata": {
        "colab": {
          "base_uri": "https://localhost:8080/"
        },
        "id": "tk6D1GhLn6NT",
        "outputId": "3eab76d4-bcdd-46b0-e9ac-c93b85bf103c"
      },
      "execution_count": 14,
      "outputs": [
        {
          "output_type": "stream",
          "name": "stdout",
          "text": [
            "Final output: [0.110599  0.9079646]\n",
            "Target output: [0.01 0.99]\n",
            "Layer 1 weights: [[0.21754014 0.26409186]\n",
            " [0.38508029 0.42818371]]\n",
            "Layer 2 weights: [[-2.28652606  1.35816181]\n",
            " [-2.19414584  1.46070254]]\n",
            "Layer 1 biases: [0.35]\n",
            "Layer 2 biases: [0.6]\n"
          ]
        }
      ]
    }
  ]
}